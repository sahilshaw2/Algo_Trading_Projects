{
 "cells": [
  {
   "cell_type": "code",
   "execution_count": 5,
   "id": "70db5f2b",
   "metadata": {},
   "outputs": [
    {
     "name": "stdout",
     "output_type": "stream",
     "text": [
      "[*********************100%%**********************]  1 of 1 completed\n",
      "Final Capital: 100000\n",
      "Final Position: 0\n"
     ]
    }
   ],
   "source": [
    "import yfinance as yf\n",
    "import pandas as pd\n",
    "\n",
    "data = yf.download('TCS', start=\"2023-08-01\", end=\"2024-01-31\")\n",
    "\n",
    "data['EMA_50'] = data['Close'].ewm(span=50, adjust=False).mean()\n",
    "data['EMA_100'] = data['Close'].ewm(span=100, adjust=False).mean()\n",
    "data['EMA_200'] = data['Close'].ewm(span=200, adjust=False).mean()\n",
    "\n",
    "data['Signal'] = 0\n",
    "data['Position'] = None\n",
    "\n",
    "data.loc[data['EMA_50'] > data['EMA_100'], 'Signal'] = 1\n",
    "data.loc[data['EMA_50'] < data['EMA_100'], 'Signal'] = -1\n",
    "\n",
    "data.loc[data['EMA_50'] > data['EMA_200'], 'Signal'] = 2\n",
    "data.loc[data['EMA_50'] < data['EMA_200'], 'Signal'] = -2\n",
    "\n",
    "capital = 100000\n",
    "position = 0\n",
    "\n",
    "for index, row in data.iterrows():\n",
    "    if row['Signal'] == 1:\n",
    "        position += capital * 0.2\n",
    "        capital -= capital * 0.2\n",
    "    elif row['Signal'] == -1:\n",
    "        capital += position\n",
    "        position = 0\n",
    "    elif row['Signal'] == 2:\n",
    "        position += capital * 0.35\n",
    "        capital -= capital * 0.35\n",
    "    elif row['Signal'] == -2:\n",
    "        capital += position\n",
    "        position = 0\n",
    "\n",
    "print(\"Final Capital:\", capital)\n",
    "print(\"Final Position:\", position)"
   ]
  }
 ],
 "metadata": {
  "kernelspec": {
   "display_name": "Python 3 (ipykernel)",
   "language": "python",
   "name": "python3"
  },
  "language_info": {
   "codemirror_mode": {
    "name": "ipython",
    "version": 3
   },
   "file_extension": ".py",
   "mimetype": "text/x-python",
   "name": "python",
   "nbconvert_exporter": "python",
   "pygments_lexer": "ipython3",
   "version": "3.9.13"
  }
 },
 "nbformat": 4,
 "nbformat_minor": 5
}
